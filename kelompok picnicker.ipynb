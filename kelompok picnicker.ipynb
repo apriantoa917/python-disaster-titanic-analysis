{
 "cells": [
  {
   "cell_type": "markdown",
   "metadata": {},
   "source": [
    "# Kelompok Picnicker\n",
    "\n",
    "1. Aprianto - 18410100002\n",
    "2. Michael Vinsent - 18410100003\n",
    "3. Adrianus Hernowo - 18410100009"
   ]
  },
  {
   "cell_type": "markdown",
   "metadata": {},
   "source": [
    "# INTRO"
   ]
  },
  {
   "cell_type": "code",
   "execution_count": 1,
   "metadata": {},
   "outputs": [],
   "source": [
    "# IMPORT\n",
    "\n",
    "import pandas as pd # baca file csv\n",
    "import numpy as np"
   ]
  },
  {
   "cell_type": "code",
   "execution_count": 2,
   "metadata": {},
   "outputs": [],
   "source": [
    "# BACA FILE CSV (dengan Pandas)\n",
    "\n",
    "data_csv = pd.read_csv(\"kapal_titanic.csv\") "
   ]
  },
  {
   "cell_type": "code",
   "execution_count": 3,
   "metadata": {},
   "outputs": [
    {
     "name": "stdout",
     "output_type": "stream",
     "text": [
      "<class 'pandas.core.frame.DataFrame'>\n",
      "RangeIndex: 891 entries, 0 to 890\n",
      "Data columns (total 9 columns):\n",
      "survived    891 non-null int64\n",
      "pclass      891 non-null int64\n",
      "sex         891 non-null object\n",
      "age         714 non-null float64\n",
      "sibsp       891 non-null int64\n",
      "parch       891 non-null int64\n",
      "fare        891 non-null float64\n",
      "embarked    889 non-null object\n",
      "deck        203 non-null object\n",
      "dtypes: float64(2), int64(4), object(3)\n",
      "memory usage: 62.7+ KB\n"
     ]
    }
   ],
   "source": [
    "# GET IN TOUCH DENGAN TIPE DATA\n",
    "\n",
    "data_csv.info()"
   ]
  },
  {
   "cell_type": "markdown",
   "metadata": {},
   "source": [
    "## Legenda\n",
    "\n",
    "- survival - Survival (0 = No; 1 = Yes) -> penumpang selamat / tidak\n",
    "- class - Passenger Class (1 = 1st; 2 = 2nd; 3 = 3rd) -> kelas penumpang\n",
    "- name - Name -\n",
    "- sex - Sex\n",
    "- age - Age\n",
    "- sibsp - Number of Siblings/Spouses Aboard -> jumlah pasangan yang berlayar\n",
    "- parch - Number of Parents/Children Aboard -> jumlah orang tua / anak yang ikut\n",
    "- ticket - Ticket Number -> nomor tiket\n",
    "- fare - Passenger Fare -> tarif penumpang\n",
    "- cabin - Cabin\n",
    "- embarked - Port of Embarkation (C = Cherbourg; Q = Queenstown; S = Southampton) -> titik keberangkatan (pelabuhan)\n",
    "\n",
    "--- \n",
    "- boat - Lifeboat (if survived)\n",
    "- body - Body number (if did not survive and body was recovered)\n",
    "---\n",
    "referensi : https://data.world/nrippner/titanic-disaster-dataset"
   ]
  },
  {
   "cell_type": "code",
   "execution_count": 4,
   "metadata": {},
   "outputs": [
    {
     "data": {
      "text/html": [
       "<div>\n",
       "<style scoped>\n",
       "    .dataframe tbody tr th:only-of-type {\n",
       "        vertical-align: middle;\n",
       "    }\n",
       "\n",
       "    .dataframe tbody tr th {\n",
       "        vertical-align: top;\n",
       "    }\n",
       "\n",
       "    .dataframe thead th {\n",
       "        text-align: right;\n",
       "    }\n",
       "</style>\n",
       "<table border=\"1\" class=\"dataframe\">\n",
       "  <thead>\n",
       "    <tr style=\"text-align: right;\">\n",
       "      <th></th>\n",
       "      <th>survived</th>\n",
       "      <th>pclass</th>\n",
       "      <th>age</th>\n",
       "      <th>sibsp</th>\n",
       "      <th>parch</th>\n",
       "      <th>fare</th>\n",
       "    </tr>\n",
       "  </thead>\n",
       "  <tbody>\n",
       "    <tr>\n",
       "      <th>count</th>\n",
       "      <td>891.000000</td>\n",
       "      <td>891.000000</td>\n",
       "      <td>714.000000</td>\n",
       "      <td>891.000000</td>\n",
       "      <td>891.000000</td>\n",
       "      <td>891.000000</td>\n",
       "    </tr>\n",
       "    <tr>\n",
       "      <th>mean</th>\n",
       "      <td>0.383838</td>\n",
       "      <td>2.308642</td>\n",
       "      <td>29.699118</td>\n",
       "      <td>0.523008</td>\n",
       "      <td>0.381594</td>\n",
       "      <td>32.204208</td>\n",
       "    </tr>\n",
       "    <tr>\n",
       "      <th>std</th>\n",
       "      <td>0.486592</td>\n",
       "      <td>0.836071</td>\n",
       "      <td>14.526497</td>\n",
       "      <td>1.102743</td>\n",
       "      <td>0.806057</td>\n",
       "      <td>49.693429</td>\n",
       "    </tr>\n",
       "    <tr>\n",
       "      <th>min</th>\n",
       "      <td>0.000000</td>\n",
       "      <td>1.000000</td>\n",
       "      <td>0.420000</td>\n",
       "      <td>0.000000</td>\n",
       "      <td>0.000000</td>\n",
       "      <td>0.000000</td>\n",
       "    </tr>\n",
       "    <tr>\n",
       "      <th>25%</th>\n",
       "      <td>0.000000</td>\n",
       "      <td>2.000000</td>\n",
       "      <td>20.125000</td>\n",
       "      <td>0.000000</td>\n",
       "      <td>0.000000</td>\n",
       "      <td>7.910400</td>\n",
       "    </tr>\n",
       "    <tr>\n",
       "      <th>50%</th>\n",
       "      <td>0.000000</td>\n",
       "      <td>3.000000</td>\n",
       "      <td>28.000000</td>\n",
       "      <td>0.000000</td>\n",
       "      <td>0.000000</td>\n",
       "      <td>14.454200</td>\n",
       "    </tr>\n",
       "    <tr>\n",
       "      <th>75%</th>\n",
       "      <td>1.000000</td>\n",
       "      <td>3.000000</td>\n",
       "      <td>38.000000</td>\n",
       "      <td>1.000000</td>\n",
       "      <td>0.000000</td>\n",
       "      <td>31.000000</td>\n",
       "    </tr>\n",
       "    <tr>\n",
       "      <th>max</th>\n",
       "      <td>1.000000</td>\n",
       "      <td>3.000000</td>\n",
       "      <td>80.000000</td>\n",
       "      <td>8.000000</td>\n",
       "      <td>6.000000</td>\n",
       "      <td>512.329200</td>\n",
       "    </tr>\n",
       "  </tbody>\n",
       "</table>\n",
       "</div>"
      ],
      "text/plain": [
       "         survived      pclass         age       sibsp       parch        fare\n",
       "count  891.000000  891.000000  714.000000  891.000000  891.000000  891.000000\n",
       "mean     0.383838    2.308642   29.699118    0.523008    0.381594   32.204208\n",
       "std      0.486592    0.836071   14.526497    1.102743    0.806057   49.693429\n",
       "min      0.000000    1.000000    0.420000    0.000000    0.000000    0.000000\n",
       "25%      0.000000    2.000000   20.125000    0.000000    0.000000    7.910400\n",
       "50%      0.000000    3.000000   28.000000    0.000000    0.000000   14.454200\n",
       "75%      1.000000    3.000000   38.000000    1.000000    0.000000   31.000000\n",
       "max      1.000000    3.000000   80.000000    8.000000    6.000000  512.329200"
      ]
     },
     "execution_count": 4,
     "metadata": {},
     "output_type": "execute_result"
    }
   ],
   "source": [
    "# INSIGHT BAWAAN PYTHON\n",
    "\n",
    "data_csv.describe()"
   ]
  },
  {
   "cell_type": "code",
   "execution_count": 5,
   "metadata": {},
   "outputs": [
    {
     "data": {
      "text/html": [
       "<div>\n",
       "<style scoped>\n",
       "    .dataframe tbody tr th:only-of-type {\n",
       "        vertical-align: middle;\n",
       "    }\n",
       "\n",
       "    .dataframe tbody tr th {\n",
       "        vertical-align: top;\n",
       "    }\n",
       "\n",
       "    .dataframe thead th {\n",
       "        text-align: right;\n",
       "    }\n",
       "</style>\n",
       "<table border=\"1\" class=\"dataframe\">\n",
       "  <thead>\n",
       "    <tr style=\"text-align: right;\">\n",
       "      <th></th>\n",
       "      <th>survived</th>\n",
       "      <th>pclass</th>\n",
       "      <th>sex</th>\n",
       "      <th>age</th>\n",
       "      <th>sibsp</th>\n",
       "      <th>parch</th>\n",
       "      <th>fare</th>\n",
       "      <th>embarked</th>\n",
       "      <th>deck</th>\n",
       "    </tr>\n",
       "  </thead>\n",
       "  <tbody>\n",
       "    <tr>\n",
       "      <th>0</th>\n",
       "      <td>0</td>\n",
       "      <td>3</td>\n",
       "      <td>male</td>\n",
       "      <td>22.0</td>\n",
       "      <td>1</td>\n",
       "      <td>0</td>\n",
       "      <td>7.2500</td>\n",
       "      <td>S</td>\n",
       "      <td>NaN</td>\n",
       "    </tr>\n",
       "    <tr>\n",
       "      <th>1</th>\n",
       "      <td>1</td>\n",
       "      <td>1</td>\n",
       "      <td>female</td>\n",
       "      <td>38.0</td>\n",
       "      <td>1</td>\n",
       "      <td>0</td>\n",
       "      <td>71.2833</td>\n",
       "      <td>C</td>\n",
       "      <td>C</td>\n",
       "    </tr>\n",
       "    <tr>\n",
       "      <th>2</th>\n",
       "      <td>1</td>\n",
       "      <td>3</td>\n",
       "      <td>female</td>\n",
       "      <td>26.0</td>\n",
       "      <td>0</td>\n",
       "      <td>0</td>\n",
       "      <td>7.9250</td>\n",
       "      <td>S</td>\n",
       "      <td>NaN</td>\n",
       "    </tr>\n",
       "    <tr>\n",
       "      <th>3</th>\n",
       "      <td>1</td>\n",
       "      <td>1</td>\n",
       "      <td>female</td>\n",
       "      <td>35.0</td>\n",
       "      <td>1</td>\n",
       "      <td>0</td>\n",
       "      <td>53.1000</td>\n",
       "      <td>S</td>\n",
       "      <td>C</td>\n",
       "    </tr>\n",
       "    <tr>\n",
       "      <th>4</th>\n",
       "      <td>0</td>\n",
       "      <td>3</td>\n",
       "      <td>male</td>\n",
       "      <td>35.0</td>\n",
       "      <td>0</td>\n",
       "      <td>0</td>\n",
       "      <td>8.0500</td>\n",
       "      <td>S</td>\n",
       "      <td>NaN</td>\n",
       "    </tr>\n",
       "  </tbody>\n",
       "</table>\n",
       "</div>"
      ],
      "text/plain": [
       "   survived  pclass     sex   age  sibsp  parch     fare embarked deck\n",
       "0         0       3    male  22.0      1      0   7.2500        S  NaN\n",
       "1         1       1  female  38.0      1      0  71.2833        C    C\n",
       "2         1       3  female  26.0      0      0   7.9250        S  NaN\n",
       "3         1       1  female  35.0      1      0  53.1000        S    C\n",
       "4         0       3    male  35.0      0      0   8.0500        S  NaN"
      ]
     },
     "execution_count": 5,
     "metadata": {},
     "output_type": "execute_result"
    }
   ],
   "source": [
    "# baca row tertentu\n",
    "\n",
    "data_csv.head() # default 5 row teratas"
   ]
  },
  {
   "cell_type": "code",
   "execution_count": 6,
   "metadata": {},
   "outputs": [
    {
     "data": {
      "text/html": [
       "<div>\n",
       "<style scoped>\n",
       "    .dataframe tbody tr th:only-of-type {\n",
       "        vertical-align: middle;\n",
       "    }\n",
       "\n",
       "    .dataframe tbody tr th {\n",
       "        vertical-align: top;\n",
       "    }\n",
       "\n",
       "    .dataframe thead th {\n",
       "        text-align: right;\n",
       "    }\n",
       "</style>\n",
       "<table border=\"1\" class=\"dataframe\">\n",
       "  <thead>\n",
       "    <tr style=\"text-align: right;\">\n",
       "      <th></th>\n",
       "      <th>survived</th>\n",
       "      <th>pclass</th>\n",
       "      <th>sex</th>\n",
       "      <th>age</th>\n",
       "      <th>sibsp</th>\n",
       "      <th>parch</th>\n",
       "      <th>fare</th>\n",
       "      <th>embarked</th>\n",
       "      <th>deck</th>\n",
       "    </tr>\n",
       "  </thead>\n",
       "  <tbody>\n",
       "    <tr>\n",
       "      <th>0</th>\n",
       "      <td>0</td>\n",
       "      <td>3</td>\n",
       "      <td>male</td>\n",
       "      <td>22.0</td>\n",
       "      <td>1</td>\n",
       "      <td>0</td>\n",
       "      <td>7.2500</td>\n",
       "      <td>S</td>\n",
       "      <td>NaN</td>\n",
       "    </tr>\n",
       "    <tr>\n",
       "      <th>1</th>\n",
       "      <td>1</td>\n",
       "      <td>1</td>\n",
       "      <td>female</td>\n",
       "      <td>38.0</td>\n",
       "      <td>1</td>\n",
       "      <td>0</td>\n",
       "      <td>71.2833</td>\n",
       "      <td>C</td>\n",
       "      <td>C</td>\n",
       "    </tr>\n",
       "    <tr>\n",
       "      <th>2</th>\n",
       "      <td>1</td>\n",
       "      <td>3</td>\n",
       "      <td>female</td>\n",
       "      <td>26.0</td>\n",
       "      <td>0</td>\n",
       "      <td>0</td>\n",
       "      <td>7.9250</td>\n",
       "      <td>S</td>\n",
       "      <td>NaN</td>\n",
       "    </tr>\n",
       "    <tr>\n",
       "      <th>3</th>\n",
       "      <td>1</td>\n",
       "      <td>1</td>\n",
       "      <td>female</td>\n",
       "      <td>35.0</td>\n",
       "      <td>1</td>\n",
       "      <td>0</td>\n",
       "      <td>53.1000</td>\n",
       "      <td>S</td>\n",
       "      <td>C</td>\n",
       "    </tr>\n",
       "    <tr>\n",
       "      <th>4</th>\n",
       "      <td>0</td>\n",
       "      <td>3</td>\n",
       "      <td>male</td>\n",
       "      <td>35.0</td>\n",
       "      <td>0</td>\n",
       "      <td>0</td>\n",
       "      <td>8.0500</td>\n",
       "      <td>S</td>\n",
       "      <td>NaN</td>\n",
       "    </tr>\n",
       "    <tr>\n",
       "      <th>5</th>\n",
       "      <td>0</td>\n",
       "      <td>3</td>\n",
       "      <td>male</td>\n",
       "      <td>NaN</td>\n",
       "      <td>0</td>\n",
       "      <td>0</td>\n",
       "      <td>8.4583</td>\n",
       "      <td>Q</td>\n",
       "      <td>NaN</td>\n",
       "    </tr>\n",
       "    <tr>\n",
       "      <th>6</th>\n",
       "      <td>0</td>\n",
       "      <td>1</td>\n",
       "      <td>male</td>\n",
       "      <td>54.0</td>\n",
       "      <td>0</td>\n",
       "      <td>0</td>\n",
       "      <td>51.8625</td>\n",
       "      <td>S</td>\n",
       "      <td>E</td>\n",
       "    </tr>\n",
       "    <tr>\n",
       "      <th>7</th>\n",
       "      <td>0</td>\n",
       "      <td>3</td>\n",
       "      <td>male</td>\n",
       "      <td>2.0</td>\n",
       "      <td>3</td>\n",
       "      <td>1</td>\n",
       "      <td>21.0750</td>\n",
       "      <td>S</td>\n",
       "      <td>NaN</td>\n",
       "    </tr>\n",
       "    <tr>\n",
       "      <th>8</th>\n",
       "      <td>1</td>\n",
       "      <td>3</td>\n",
       "      <td>female</td>\n",
       "      <td>27.0</td>\n",
       "      <td>0</td>\n",
       "      <td>2</td>\n",
       "      <td>11.1333</td>\n",
       "      <td>S</td>\n",
       "      <td>NaN</td>\n",
       "    </tr>\n",
       "    <tr>\n",
       "      <th>9</th>\n",
       "      <td>1</td>\n",
       "      <td>2</td>\n",
       "      <td>female</td>\n",
       "      <td>14.0</td>\n",
       "      <td>1</td>\n",
       "      <td>0</td>\n",
       "      <td>30.0708</td>\n",
       "      <td>C</td>\n",
       "      <td>NaN</td>\n",
       "    </tr>\n",
       "  </tbody>\n",
       "</table>\n",
       "</div>"
      ],
      "text/plain": [
       "   survived  pclass     sex   age  sibsp  parch     fare embarked deck\n",
       "0         0       3    male  22.0      1      0   7.2500        S  NaN\n",
       "1         1       1  female  38.0      1      0  71.2833        C    C\n",
       "2         1       3  female  26.0      0      0   7.9250        S  NaN\n",
       "3         1       1  female  35.0      1      0  53.1000        S    C\n",
       "4         0       3    male  35.0      0      0   8.0500        S  NaN\n",
       "5         0       3    male   NaN      0      0   8.4583        Q  NaN\n",
       "6         0       1    male  54.0      0      0  51.8625        S    E\n",
       "7         0       3    male   2.0      3      1  21.0750        S  NaN\n",
       "8         1       3  female  27.0      0      2  11.1333        S  NaN\n",
       "9         1       2  female  14.0      1      0  30.0708        C  NaN"
      ]
     },
     "execution_count": 6,
     "metadata": {},
     "output_type": "execute_result"
    }
   ],
   "source": [
    "# baca 10 row teratas\n",
    "\n",
    "data_csv.head(10)"
   ]
  },
  {
   "cell_type": "code",
   "execution_count": 7,
   "metadata": {},
   "outputs": [
    {
     "name": "stdout",
     "output_type": "stream",
     "text": [
      "['survived' 'pclass' 'sex' 'age' 'sibsp' 'parch' 'fare' 'embarked' 'deck']\n"
     ]
    }
   ],
   "source": [
    "# header / nama kolom pada data csv\n",
    "\n",
    "kolom = data_csv.columns.values\n",
    "\n",
    "print(kolom)"
   ]
  },
  {
   "cell_type": "code",
   "execution_count": 8,
   "metadata": {},
   "outputs": [],
   "source": [
    "import matplotlib.pyplot as plt # menampilkan plotting data\n",
    "import seaborn as sns"
   ]
  },
  {
   "cell_type": "code",
   "execution_count": 9,
   "metadata": {},
   "outputs": [
    {
     "data": {
      "text/plain": [
       "<matplotlib.axes._subplots.AxesSubplot at 0x221ea2d8d68>"
      ]
     },
     "execution_count": 9,
     "metadata": {},
     "output_type": "execute_result"
    },
    {
     "data": {
      "image/png": "[encoded data removed]",
      "text/plain": [
       "<Figure size 432x288 with 1 Axes>"
      ]
     },
     "metadata": {
      "needs_background": "light"
     },
     "output_type": "display_data"
    }
   ],
   "source": [
    "data_csv.plot()"
   ]
  },
  {
   "cell_type": "code",
   "execution_count": 10,
   "metadata": {},
   "outputs": [
    {
     "name": "stdout",
     "output_type": "stream",
     "text": [
      "True\n"
     ]
    }
   ],
   "source": [
    "# data frame (df) -> object creation dari file csv dalam lib pandas (untuk viz)\n",
    "\n",
    "# native -> df\n",
    "df = pd.DataFrame(data_csv)\n",
    "\n",
    "# pembuktian\n",
    "size_native = data_csv['survived'].size\n",
    "size_df = df['survived'].size\n",
    "\n",
    "print(size_native == size_df)"
   ]
  },
  {
   "cell_type": "code",
   "execution_count": 11,
   "metadata": {
    "scrolled": true
   },
   "outputs": [
    {
     "name": "stdout",
     "output_type": "stream",
     "text": [
      "<class 'pandas.core.frame.DataFrame'>\n",
      "RangeIndex: 891 entries, 0 to 890\n",
      "Data columns (total 9 columns):\n",
      "survived    891 non-null int64\n",
      "pclass      891 non-null int64\n",
      "sex         891 non-null object\n",
      "age         714 non-null float64\n",
      "sibsp       891 non-null int64\n",
      "parch       891 non-null int64\n",
      "fare        891 non-null float64\n",
      "embarked    889 non-null object\n",
      "deck        203 non-null object\n",
      "dtypes: float64(2), int64(4), object(3)\n",
      "memory usage: 62.7+ KB\n"
     ]
    }
   ],
   "source": [
    "# atribut dari dataframe\n",
    "\n",
    "df.info()"
   ]
  },
  {
   "cell_type": "code",
   "execution_count": 12,
   "metadata": {},
   "outputs": [
    {
     "data": {
      "text/plain": [
       "array([[<matplotlib.axes._subplots.AxesSubplot object at 0x00000221EB613668>,\n",
       "        <matplotlib.axes._subplots.AxesSubplot object at 0x00000221EB655780>],\n",
       "       [<matplotlib.axes._subplots.AxesSubplot object at 0x00000221EB687CF8>,\n",
       "        <matplotlib.axes._subplots.AxesSubplot object at 0x00000221EB6C42E8>],\n",
       "       [<matplotlib.axes._subplots.AxesSubplot object at 0x00000221EB6F4898>,\n",
       "        <matplotlib.axes._subplots.AxesSubplot object at 0x00000221EB728E48>]],\n",
       "      dtype=object)"
      ]
     },
     "execution_count": 12,
     "metadata": {},
     "output_type": "execute_result"
    },
    {
     "data": {
      "image/png": "[encoded data removed]",
      "text/plain": [
       "<Figure size 432x288 with 6 Axes>"
      ]
     },
     "metadata": {
      "needs_background": "light"
     },
     "output_type": "display_data"
    }
   ],
   "source": [
    "# sebaran data /distribusi dari dataframe (histogram)\n",
    "\n",
    "df.hist()"
   ]
  },
  {
   "cell_type": "markdown",
   "metadata": {},
   "source": [
    "# Round #1 : Passanger by Gender\n",
    "\n",
    "reference :\n",
    "- filter df : https://stackoverflow.com/questions/17071871/how-do-i-select-rows-from-a-dataframe-based-on-column-values\n",
    "- chart : https://datatofish.com/pie-chart-matplotlib/"
   ]
  },
  {
   "cell_type": "code",
   "execution_count": 13,
   "metadata": {},
   "outputs": [
    {
     "name": "stdout",
     "output_type": "stream",
     "text": [
      "jumlah dataframe sex = 891 \n",
      "---\n",
      "jumlah laki-laki =  577\n",
      "jumlah perempuan =  314\n",
      "---\n",
      "laki-laki + perempuan = 891\n"
     ]
    }
   ],
   "source": [
    "# jumlah passanger by sex\n",
    "\n",
    "# all\n",
    "print('jumlah dataframe sex =',df['sex'].size,'\\n---')\n",
    "\n",
    "# male \n",
    "male = df['sex'].loc[df['sex'] == 'male']\n",
    "print('jumlah laki-laki = ',male.size)\n",
    "\n",
    "# female \n",
    "female = df['sex'].loc[df['sex'] == 'female']\n",
    "print('jumlah perempuan = ',female.size)\n",
    "\n",
    "print('---')\n",
    "print('laki-laki + perempuan =',male.size+female.size)"
   ]
  },
  {
   "cell_type": "code",
   "execution_count": 14,
   "metadata": {},
   "outputs": [
    {
     "data": {
      "image/png": "[encoded data removed]",
      "text/plain": [
       "<Figure size 432x288 with 1 Axes>"
      ]
     },
     "metadata": {},
     "output_type": "display_data"
    }
   ],
   "source": [
    "# viz passanger by sex\n",
    "\n",
    "value_sex=[male.size,female.size]\n",
    "label_sex=['laki-laki','perempuan']\n",
    "\n",
    "plt.pie(\n",
    "    value_sex,\n",
    "    labels=label_sex,\n",
    "    autopct='%1.1f%%', #menampilkan prosentase\n",
    "    colors=['lightblue','pink'])\n",
    "plt.title('Jumlah penumpang Titanic berdasarkan gender')\n",
    "plt.show()"
   ]
  },
  {
   "cell_type": "markdown",
   "metadata": {},
   "source": [
    "# Round #2 : Survival Rate by Gender\n",
    "\n",
    "reference : \n",
    "- multiple conditions df filter : https://kanoki.org/2020/01/21/pandas-dataframe-filter-with-multiple-conditions/\n",
    "- grafik bar chart : https://pythontic.com/pandas/dataframe-plotting/bar%20chart"
   ]
  },
  {
   "cell_type": "code",
   "execution_count": 15,
   "metadata": {},
   "outputs": [
    {
     "data": {
      "text/html": [
       "<div>\n",
       "<style scoped>\n",
       "    .dataframe tbody tr th:only-of-type {\n",
       "        vertical-align: middle;\n",
       "    }\n",
       "\n",
       "    .dataframe tbody tr th {\n",
       "        vertical-align: top;\n",
       "    }\n",
       "\n",
       "    .dataframe thead th {\n",
       "        text-align: right;\n",
       "    }\n",
       "</style>\n",
       "<table border=\"1\" class=\"dataframe\">\n",
       "  <thead>\n",
       "    <tr style=\"text-align: right;\">\n",
       "      <th></th>\n",
       "      <th>survived</th>\n",
       "      <th>sex</th>\n",
       "    </tr>\n",
       "  </thead>\n",
       "  <tbody>\n",
       "    <tr>\n",
       "      <th>0</th>\n",
       "      <td>0</td>\n",
       "      <td>male</td>\n",
       "    </tr>\n",
       "    <tr>\n",
       "      <th>1</th>\n",
       "      <td>1</td>\n",
       "      <td>female</td>\n",
       "    </tr>\n",
       "    <tr>\n",
       "      <th>2</th>\n",
       "      <td>1</td>\n",
       "      <td>female</td>\n",
       "    </tr>\n",
       "    <tr>\n",
       "      <th>3</th>\n",
       "      <td>1</td>\n",
       "      <td>female</td>\n",
       "    </tr>\n",
       "    <tr>\n",
       "      <th>4</th>\n",
       "      <td>0</td>\n",
       "      <td>male</td>\n",
       "    </tr>\n",
       "  </tbody>\n",
       "</table>\n",
       "</div>"
      ],
      "text/plain": [
       "   survived     sex\n",
       "0         0    male\n",
       "1         1  female\n",
       "2         1  female\n",
       "3         1  female\n",
       "4         0    male"
      ]
     },
     "execution_count": 15,
     "metadata": {},
     "output_type": "execute_result"
    }
   ],
   "source": [
    "#  all data ke spesific data (subset)\n",
    "\n",
    "sex_survival = df[['survived','sex']]\n",
    "sex_survival.head()"
   ]
  },
  {
   "cell_type": "code",
   "execution_count": 16,
   "metadata": {},
   "outputs": [
    {
     "name": "stdout",
     "output_type": "stream",
     "text": [
      "jumlah dataframe sex = 891 \n",
      "---\n",
      "jumlah laki-laki selamat =  109\n",
      "jumlah laki-laki tidak selamat =  468\n",
      "jumlah perempuan selamat =  233\n",
      "jumlah perempuan tidak selamat =  81\n",
      "---\n",
      "total keseluruhan = 891\n"
     ]
    }
   ],
   "source": [
    "# all\n",
    "print('jumlah dataframe sex =',df['sex'].size,'\\n---')\n",
    "\n",
    "# saved male \n",
    "saved_male =  df.query('survived == 1 & sex == \"male\"')\n",
    "saved_male = saved_male['survived'].size\n",
    "print('jumlah laki-laki selamat = ',saved_male)\n",
    "\n",
    "# not saved male \n",
    "not_saved_male =  df.query('survived == 0 & sex == \"male\"')\n",
    "not_saved_male = not_saved_male['survived'].size\n",
    "print('jumlah laki-laki tidak selamat = ',not_saved_male)\n",
    "\n",
    "# saved female \n",
    "saved_female =  df.query('survived == 1 & sex == \"female\"')\n",
    "saved_female = saved_female['survived'].size\n",
    "print('jumlah perempuan selamat = ',saved_female)\n",
    "\n",
    "# not saved female \n",
    "not_saved_female =  df.query('survived == 0 & sex == \"female\"')\n",
    "not_saved_female = not_saved_female['survived'].size\n",
    "print('jumlah perempuan tidak selamat = ',not_saved_female)\n",
    "\n",
    "\n",
    "print('---')\n",
    "print('total keseluruhan =',saved_male+not_saved_male+saved_female+not_saved_female)"
   ]
  },
  {
   "cell_type": "code",
   "execution_count": 17,
   "metadata": {},
   "outputs": [
    {
     "data": {
      "image/png": "[encoded data removed]",
      "text/plain": [
       "<Figure size 432x288 with 1 Axes>"
      ]
     },
     "metadata": {
      "needs_background": "light"
     },
     "output_type": "display_data"
    }
   ],
   "source": [
    "data = {\n",
    "    'saved' : [saved_male,saved_female],\n",
    "    'not saved' : [not_saved_male,not_saved_female]\n",
    "}\n",
    "label = ['Laki-laki','Perempuan']\n",
    "\n",
    "data_grafik = pd.DataFrame(data=data, index=label);\n",
    "data_grafik.plot.bar(rot=15, title=\"Jumlah penumpang selamat dan tidak berdasarkan gender\");\n",
    "\n",
    "plt.show(block=True);"
   ]
  },
  {
   "cell_type": "markdown",
   "metadata": {},
   "source": [
    "# Round #3 : Pengaruh Keselamatan pada penumpang terhadap gender dan jenis kelas penumpang"
   ]
  },
  {
   "cell_type": "code",
   "execution_count": 18,
   "metadata": {},
   "outputs": [
    {
     "data": {
      "text/html": [
       "<div>\n",
       "<style scoped>\n",
       "    .dataframe tbody tr th:only-of-type {\n",
       "        vertical-align: middle;\n",
       "    }\n",
       "\n",
       "    .dataframe tbody tr th {\n",
       "        vertical-align: top;\n",
       "    }\n",
       "\n",
       "    .dataframe thead th {\n",
       "        text-align: right;\n",
       "    }\n",
       "</style>\n",
       "<table border=\"1\" class=\"dataframe\">\n",
       "  <thead>\n",
       "    <tr style=\"text-align: right;\">\n",
       "      <th></th>\n",
       "      <th>survived</th>\n",
       "      <th>sex</th>\n",
       "      <th>pclass</th>\n",
       "    </tr>\n",
       "  </thead>\n",
       "  <tbody>\n",
       "    <tr>\n",
       "      <th>0</th>\n",
       "      <td>0</td>\n",
       "      <td>male</td>\n",
       "      <td>3</td>\n",
       "    </tr>\n",
       "    <tr>\n",
       "      <th>1</th>\n",
       "      <td>1</td>\n",
       "      <td>female</td>\n",
       "      <td>1</td>\n",
       "    </tr>\n",
       "    <tr>\n",
       "      <th>2</th>\n",
       "      <td>1</td>\n",
       "      <td>female</td>\n",
       "      <td>3</td>\n",
       "    </tr>\n",
       "    <tr>\n",
       "      <th>3</th>\n",
       "      <td>1</td>\n",
       "      <td>female</td>\n",
       "      <td>1</td>\n",
       "    </tr>\n",
       "    <tr>\n",
       "      <th>4</th>\n",
       "      <td>0</td>\n",
       "      <td>male</td>\n",
       "      <td>3</td>\n",
       "    </tr>\n",
       "  </tbody>\n",
       "</table>\n",
       "</div>"
      ],
      "text/plain": [
       "   survived     sex  pclass\n",
       "0         0    male       3\n",
       "1         1  female       1\n",
       "2         1  female       3\n",
       "3         1  female       1\n",
       "4         0    male       3"
      ]
     },
     "execution_count": 18,
     "metadata": {},
     "output_type": "execute_result"
    }
   ],
   "source": [
    "#  all data ke spesific data (subset)\n",
    "\n",
    "sex_survival = df[['survived','sex','pclass']]\n",
    "sex_survival.head()"
   ]
  },
  {
   "cell_type": "code",
   "execution_count": 19,
   "metadata": {},
   "outputs": [
    {
     "name": "stdout",
     "output_type": "stream",
     "text": [
      "SELAMAT\n",
      "----------\n",
      "\n",
      "\tjumlah penumpang kelas 1 laki-laki selamat =  45\n",
      "\tjumlah penumpang kelas 2 laki-laki selamat =  17\n",
      "\tjumlah penumpang kelas 3 laki-laki selamat =  47\n",
      "\n",
      "\tjumlah penumpang kelas 1 perempuan selamat =  91\n",
      "\tjumlah penumpang kelas 2 perempuan selamat =  70\n",
      "\tjumlah penumpang kelas 3 perempuan selamat =  72\n",
      "\n",
      "TIDAK SELAMAT\n",
      "----------\n",
      "\n",
      "\tjumlah penumpang kelas 1 laki-laki tidak selamat =  77\n",
      "\tjumlah penumpang kelas 2 laki-laki tidak selamat =  91\n",
      "\tjumlah penumpang kelas 3 laki-laki tidak selamat =  300\n",
      "\n",
      "\tjumlah penumpang kelas 1 perempuan tidak selamat =  3\n",
      "\tjumlah penumpang kelas 2 perempuan tidak selamat =  6\n",
      "\tjumlah penumpang kelas 3 perempuan tidak selamat =  72\n"
     ]
    }
   ],
   "source": [
    "# SAVED\n",
    "\n",
    "print('SELAMAT\\n----------\\n')\n",
    "\n",
    "# saved 1st male \n",
    "sm1 =  df.query('survived == 1 & sex == \"male\" & pclass==1')\n",
    "sm1 = sm1['survived'].size\n",
    "print('\\tjumlah penumpang kelas 1 laki-laki selamat = ',sm1)\n",
    "\n",
    "# saved 2nd male \n",
    "sm2 =  df.query('survived == 1 & sex == \"male\" & pclass==2')\n",
    "sm2 = sm2['survived'].size\n",
    "print('\\tjumlah penumpang kelas 2 laki-laki selamat = ',sm2)\n",
    "\n",
    "# saved 1st male \n",
    "sm3 =  df.query('survived == 1 & sex == \"male\" & pclass==3')\n",
    "sm3 = sm3['survived'].size\n",
    "print('\\tjumlah penumpang kelas 3 laki-laki selamat = ',sm3)\n",
    "\n",
    "print()\n",
    "\n",
    "# saved 1st female \n",
    "sf1 =  df.query('survived == 1 & sex == \"female\" & pclass==1')\n",
    "sf1 = sf1['survived'].size\n",
    "print('\\tjumlah penumpang kelas 1 perempuan selamat = ',sf1)\n",
    "\n",
    "# saved 2nd female \n",
    "sf2=  df.query('survived == 1 & sex == \"female\" & pclass==2')\n",
    "sf2 = sf2['survived'].size\n",
    "print('\\tjumlah penumpang kelas 2 perempuan selamat = ',sf2)\n",
    "\n",
    "# saved 3rd female \n",
    "sf3=  df.query('survived == 1 & sex == \"female\" & pclass==3')\n",
    "sf3 = sf3['survived'].size\n",
    "print('\\tjumlah penumpang kelas 3 perempuan selamat = ',sf3)\n",
    "\n",
    "# NOT SAVED\n",
    "\n",
    "print('\\nTIDAK SELAMAT\\n----------\\n')\n",
    "\n",
    "# not saved 1st male \n",
    "nsm1 =  df.query('survived == 0 & sex == \"male\" & pclass==1')\n",
    "nsm1 = nsm1['survived'].size\n",
    "print('\\tjumlah penumpang kelas 1 laki-laki tidak selamat = ',nsm1)\n",
    "\n",
    "# saved 2nd male \n",
    "nsm2 =  df.query('survived == 0 & sex == \"male\" & pclass==2')\n",
    "nsm2 = nsm2['survived'].size\n",
    "print('\\tjumlah penumpang kelas 2 laki-laki tidak selamat = ',nsm2)\n",
    "\n",
    "# not saved 1st male \n",
    "nsm3 =  df.query('survived == 0 & sex == \"male\" & pclass==3')\n",
    "nsm3 = nsm3['survived'].size\n",
    "print('\\tjumlah penumpang kelas 3 laki-laki tidak selamat = ',nsm3)\n",
    "\n",
    "print()\n",
    "\n",
    "# not saved 1st female \n",
    "nsf1 =  df.query('survived == 0 & sex == \"female\" & pclass==1')\n",
    "nsf1 = nsf1['survived'].size\n",
    "print('\\tjumlah penumpang kelas 1 perempuan tidak selamat = ',nsf1)\n",
    "\n",
    "# not saved 2nd female \n",
    "nsf2=  df.query('survived == 0 & sex == \"female\" & pclass==2')\n",
    "nsf2 = nsf2['survived'].size\n",
    "print('\\tjumlah penumpang kelas 2 perempuan tidak selamat = ',nsf2)\n",
    "\n",
    "# not saved 3rd female \n",
    "nsf3=  df.query('survived == 0 & sex == \"female\" & pclass==3')\n",
    "nsf3 = nsf3['survived'].size\n",
    "print('\\tjumlah penumpang kelas 3 perempuan tidak selamat = ',nsf3)"
   ]
  },
  {
   "cell_type": "code",
   "execution_count": 20,
   "metadata": {},
   "outputs": [
    {
     "data": {
      "image/png": "[encoded data removed]",
      "text/plain": [
       "<Figure size 432x288 with 1 Axes>"
      ]
     },
     "metadata": {},
     "output_type": "display_data"
    }
   ],
   "source": [
    "# rasio penumpang selamat berdasarkan kelas\n",
    "\n",
    "value_sex=[sm1+sf1, sm2+sf2, sm3+sf3]\n",
    "label_sex=['kelas 1','kelas 2','kelas 3']\n",
    "\n",
    "plt.pie(\n",
    "    value_sex,\n",
    "    labels=label_sex,\n",
    "    autopct='%1.1f%%', #menampilkan prosentase\n",
    "    colors=['lightgreen','lightblue','orange'])\n",
    "plt.title('Prosentase Penumpang selamat per kelas')\n",
    "plt.show()"
   ]
  },
  {
   "cell_type": "code",
   "execution_count": 21,
   "metadata": {},
   "outputs": [
    {
     "data": {
      "image/png": "[encoded data removed]",
      "text/plain": [
       "<Figure size 432x288 with 1 Axes>"
      ]
     },
     "metadata": {},
     "output_type": "display_data"
    }
   ],
   "source": [
    "# break down rasio penumpang selamat per kelas per gender\n",
    "\n",
    "value_sex=[sm1,sf1,sm2,sf2,sm3,sf3]\n",
    "label_sex=[\n",
    "    'kelas 1 pria',\n",
    "    'kelas 1 wanita',\n",
    "    'kelas 2 pria',\n",
    "    'kelas 2 wanita',\n",
    "    'kelas 3 pria',\n",
    "    'kelas 3 wanita',\n",
    "]\n",
    "\n",
    "plt.pie(\n",
    "    value_sex,\n",
    "    labels=label_sex,\n",
    "    autopct='%1.1f%%', #menampilkan prosentase\n",
    "    colors=['lightblue','pink'])\n",
    "plt.title('Prosentase Penumpang selamat per kelas per gender')\n",
    "plt.show()"
   ]
  },
  {
   "cell_type": "code",
   "execution_count": 22,
   "metadata": {},
   "outputs": [
    {
     "data": {
      "image/png": "[encoded data removed]",
      "text/plain": [
       "<Figure size 720x360 with 2 Axes>"
      ]
     },
     "metadata": {},
     "output_type": "display_data"
    },
    {
     "data": {
      "image/png": "[encoded data removed]",
      "text/plain": [
       "<Figure size 720x360 with 2 Axes>"
      ]
     },
     "metadata": {},
     "output_type": "display_data"
    },
    {
     "data": {
      "image/png": "[encoded data removed]",
      "text/plain": [
       "<Figure size 720x360 with 2 Axes>"
      ]
     },
     "metadata": {},
     "output_type": "display_data"
    }
   ],
   "source": [
    "# viz passanger by sex\n",
    "\n",
    "label_sex=['laki-laki','perempuan']\n",
    "colors = ['lightblue','pink']\n",
    "\n",
    "# kelas 1\n",
    "\n",
    "fig, (ax1, ax2) = plt.subplots(1, 2)\n",
    "fig = plt.gcf()\n",
    "fig.set_size_inches(10, 5)\n",
    "\n",
    "ax1.pie(\n",
    "    [sm1,sf1],\n",
    "    labels=label_sex,\n",
    "    autopct='%1.1f%%', #menampilkan prosentase\n",
    "    colors=colors)\n",
    "\n",
    "ax2.pie(\n",
    "    [nsm1,nsf1],\n",
    "    labels=label_sex,\n",
    "    autopct='%1.1f%%', #menampilkan prosentase\n",
    "    colors=colors)\n",
    "\n",
    "fig.suptitle('Keselamatan penumpang kelas 1 (kiri = selamat, kanan = tidak selamat)')\n",
    "\n",
    "# kelas 2\n",
    "\n",
    "fig, (ax3, ax4) = plt.subplots(1, 2)\n",
    "fig = plt.gcf()\n",
    "fig.set_size_inches(10, 5)\n",
    "\n",
    "ax3.pie(\n",
    "    [sm2,sf2],\n",
    "    labels=label_sex,\n",
    "    autopct='%1.1f%%', #menampilkan prosentase\n",
    "    colors=colors)\n",
    "\n",
    "ax4.pie(\n",
    "    [nsm2,nsf2],\n",
    "    labels=label_sex,\n",
    "    autopct='%1.1f%%', #menampilkan prosentase\n",
    "    colors=colors)\n",
    "\n",
    "fig.suptitle('Keselamatan penumpang kelas 2 (kiri = selamat, kanan = tidak selamat)')\n",
    "\n",
    "# kelas 3\n",
    "\n",
    "fig, (ax5, ax6) = plt.subplots(1, 2)\n",
    "fig = plt.gcf()\n",
    "fig.set_size_inches(10, 5)\n",
    "\n",
    "ax5.pie(\n",
    "    [sm3,sf3],\n",
    "    labels=label_sex,\n",
    "    autopct='%1.1f%%', #menampilkan prosentase\n",
    "    colors=colors)\n",
    "\n",
    "ax6.pie(\n",
    "    [nsm3,nsf3],\n",
    "    labels=label_sex,\n",
    "    autopct='%1.1f%%', #menampilkan prosentase\n",
    "    colors=colors)\n",
    "\n",
    "fig.suptitle('Keselamatan penumpang kelas 3 (kiri = selamat, kanan = tidak selamat)')\n",
    "\n",
    "plt.show()"
   ]
  },
  {
   "cell_type": "markdown",
   "metadata": {},
   "source": [
    "# STATISTIK"
   ]
  },
  {
   "cell_type": "markdown",
   "metadata": {},
   "source": [
    "# Round #4 : Pemusatan Data"
   ]
  },
  {
   "cell_type": "code",
   "execution_count": 23,
   "metadata": {},
   "outputs": [
    {
     "data": {
      "text/plain": [
       "0    22.0\n",
       "1    38.0\n",
       "2    26.0\n",
       "3    35.0\n",
       "4    35.0\n",
       "Name: age, dtype: float64"
      ]
     },
     "execution_count": 23,
     "metadata": {},
     "output_type": "execute_result"
    }
   ],
   "source": [
    "# data asal = usia\n",
    "\n",
    "a= df['age'].fillna((df['age'].median()))\n",
    "a.head()"
   ]
  },
  {
   "cell_type": "code",
   "execution_count": 24,
   "metadata": {},
   "outputs": [
    {
     "data": {
      "text/plain": [
       "29.36158249158249"
      ]
     },
     "execution_count": 24,
     "metadata": {},
     "output_type": "execute_result"
    }
   ],
   "source": [
    "#pemusatan data Mean Median Modus menggu\n",
    "#mean\n",
    "a.mean()"
   ]
  },
  {
   "cell_type": "code",
   "execution_count": 25,
   "metadata": {},
   "outputs": [
    {
     "data": {
      "text/plain": [
       "28.0"
      ]
     },
     "execution_count": 25,
     "metadata": {},
     "output_type": "execute_result"
    }
   ],
   "source": [
    "#median\n",
    "a.median()"
   ]
  },
  {
   "cell_type": "code",
   "execution_count": 26,
   "metadata": {},
   "outputs": [
    {
     "data": {
      "text/plain": [
       "0    28.0\n",
       "dtype: float64"
      ]
     },
     "execution_count": 26,
     "metadata": {},
     "output_type": "execute_result"
    }
   ],
   "source": [
    "# modus\n",
    "a.mode()"
   ]
  },
  {
   "cell_type": "markdown",
   "metadata": {},
   "source": [
    "# Round #5 : Pesebaran Data"
   ]
  },
  {
   "cell_type": "code",
   "execution_count": 27,
   "metadata": {},
   "outputs": [
    {
     "data": {
      "text/plain": [
       "13.019696550973194"
      ]
     },
     "execution_count": 27,
     "metadata": {},
     "output_type": "execute_result"
    }
   ],
   "source": [
    "#standar deviasi\n",
    "a.std()"
   ]
  },
  {
   "cell_type": "code",
   "execution_count": 28,
   "metadata": {},
   "outputs": [
    {
     "data": {
      "text/plain": [
       "169.51249827942328"
      ]
     },
     "execution_count": 28,
     "metadata": {},
     "output_type": "execute_result"
    }
   ],
   "source": [
    "#variance\n",
    "a.var() "
   ]
  },
  {
   "cell_type": "code",
   "execution_count": 29,
   "metadata": {},
   "outputs": [
    {
     "data": {
      "text/plain": [
       "0.5102446555756495"
      ]
     },
     "execution_count": 29,
     "metadata": {},
     "output_type": "execute_result"
    }
   ],
   "source": [
    "#Skewness\n",
    "a.skew()"
   ]
  },
  {
   "cell_type": "code",
   "execution_count": 30,
   "metadata": {},
   "outputs": [
    {
     "data": {
      "text/plain": [
       "16.0"
      ]
     },
     "execution_count": 30,
     "metadata": {},
     "output_type": "execute_result"
    }
   ],
   "source": [
    "#persentil\n",
    "#digunakan nilai ke 10\n",
    "b = np.array(a)\n",
    "np.percentile(b, 10)"
   ]
  },
  {
   "cell_type": "markdown",
   "metadata": {},
   "source": [
    "# Round #6 : Korelasi\n",
    "\n",
    "references : https://heartbeat.fritz.ai/naive-bayes-classifier-in-python-using-scikit-learn-13c4deb83bcf"
   ]
  },
  {
   "cell_type": "markdown",
   "metadata": {},
   "source": [
    "## Korelasi Pearson : Korelasi antara usia terhadap jumlah penumpang yang selamat\n",
    "\n",
    "−1 ≤ r ≤ 1\n",
    "\n",
    "- The value r > 0 indicates positive correlation between x and y.\n",
    "- The value r = 0 corresponds to the case in which there’s no linear relationship between x and y\n",
    "- The value r < 0 indicates negative correlation between x and y.\n",
    "- The minimal value r = −1 corresponds to the case when there’s a perfect negative linear relationship between x and y\n"
   ]
  },
  {
   "cell_type": "code",
   "execution_count": 31,
   "metadata": {},
   "outputs": [
    {
     "data": {
      "text/html": [
       "<div>\n",
       "<style scoped>\n",
       "    .dataframe tbody tr th:only-of-type {\n",
       "        vertical-align: middle;\n",
       "    }\n",
       "\n",
       "    .dataframe tbody tr th {\n",
       "        vertical-align: top;\n",
       "    }\n",
       "\n",
       "    .dataframe thead th {\n",
       "        text-align: right;\n",
       "    }\n",
       "</style>\n",
       "<table border=\"1\" class=\"dataframe\">\n",
       "  <thead>\n",
       "    <tr style=\"text-align: right;\">\n",
       "      <th></th>\n",
       "      <th>age</th>\n",
       "      <th>survived</th>\n",
       "    </tr>\n",
       "  </thead>\n",
       "  <tbody>\n",
       "    <tr>\n",
       "      <th>0</th>\n",
       "      <td>0.42</td>\n",
       "      <td>1</td>\n",
       "    </tr>\n",
       "    <tr>\n",
       "      <th>1</th>\n",
       "      <td>0.67</td>\n",
       "      <td>1</td>\n",
       "    </tr>\n",
       "    <tr>\n",
       "      <th>2</th>\n",
       "      <td>0.75</td>\n",
       "      <td>2</td>\n",
       "    </tr>\n",
       "    <tr>\n",
       "      <th>3</th>\n",
       "      <td>0.83</td>\n",
       "      <td>2</td>\n",
       "    </tr>\n",
       "    <tr>\n",
       "      <th>4</th>\n",
       "      <td>0.92</td>\n",
       "      <td>1</td>\n",
       "    </tr>\n",
       "  </tbody>\n",
       "</table>\n",
       "</div>"
      ],
      "text/plain": [
       "    age  survived\n",
       "0  0.42         1\n",
       "1  0.67         1\n",
       "2  0.75         2\n",
       "3  0.83         2\n",
       "4  0.92         1"
      ]
     },
     "execution_count": 31,
     "metadata": {},
     "output_type": "execute_result"
    }
   ],
   "source": [
    "# cari jumlah penumpang selamat by usia\n",
    "\n",
    "survive_age = df[['survived','age']].sort_values(by=['age'], ascending=True) # ambil dari df dan sort by age asc\n",
    "survive_age = survive_age.query('survived == 1 & age > 0') # filter data hanya yang selamat dan usia != NaN\n",
    "\n",
    "grouped_data = pd.DataFrame(survive_age.groupby(['age'],as_index=False).count()) #group data by usia lalu count\n",
    "grouped_data.head()"
   ]
  },
  {
   "cell_type": "code",
   "execution_count": 37,
   "metadata": {},
   "outputs": [],
   "source": [
    "x = grouped_data['age']\n",
    "y = grouped_data['survived']"
   ]
  },
  {
   "cell_type": "code",
   "execution_count": 39,
   "metadata": {},
   "outputs": [],
   "source": [
    "import scipy.stats\n",
    "\n",
    "# analisis regresi linear untuk hubungan usia dengan jumlah penumpang selamat\n",
    "result = scipy.stats.linregress(x, y)\n",
    "\n",
    "# ref : https://realpython.com/numpy-scipy-pandas-correlation-python/-"
   ]
  },
  {
   "cell_type": "code",
   "execution_count": 42,
   "metadata": {},
   "outputs": [
    {
     "data": {
      "text/plain": [
       "-0.06183489528143483"
      ]
     },
     "execution_count": 42,
     "metadata": {},
     "output_type": "execute_result"
    }
   ],
   "source": [
    "# r value = korelasi antara 2 variabel\n",
    "\n",
    "result.rvalue\n",
    "\n",
    "# r < 0 = hubungan negatif / tidak berhubungan antara 2 variabel"
   ]
  },
  {
   "cell_type": "code",
   "execution_count": 34,
   "metadata": {},
   "outputs": [],
   "source": [
    "# dari analisis regresi menggunakan scipy, tidak ditemukan hubungan / korelasi dari usia dan jumlah penumpang yang selamat"
   ]
  },
  {
   "cell_type": "code",
   "execution_count": 35,
   "metadata": {},
   "outputs": [
    {
     "data": {
      "image/png": "[encoded data removed]",
      "text/plain": [
       "<Figure size 432x288 with 1 Axes>"
      ]
     },
     "metadata": {
      "needs_background": "light"
     },
     "output_type": "display_data"
    }
   ],
   "source": [
    "slope, intercept, r, p, stderr = scipy.stats.linregress(x, y)\n",
    "\n",
    "line = f'Regression line: y={intercept:.2f}+{slope:.2f}x, r={r:.2f}' # membuat model matematika\n",
    "\n",
    "fig, ax = plt.subplots()\n",
    "ax.plot(x, y, linewidth=0, marker='s', label='Data points')\n",
    "ax.plot(x, intercept + slope * x, label=line)\n",
    "ax.set_xlabel('x')\n",
    "ax.set_ylabel('y')\n",
    "ax.legend(facecolor='white')\n",
    "plt.show()"
   ]
  },
  {
   "cell_type": "code",
   "execution_count": 36,
   "metadata": {},
   "outputs": [],
   "source": [
    "# sebaran data tidak terpusat pada area sekitar garis linear, tidak menunjukan hubungan yang erat"
   ]
  },
  {
   "cell_type": "markdown",
   "metadata": {},
   "source": [
    "# REFERENCES\n",
    "\n",
    "- penjelasan mengenai setiap kolom data : https://data.world/nrippner/titanic-disaster-dataset\n",
    "\n",
    "https://towardsdatascience.com/predicting-the-survival-of-titanic-passengers-30870ccc7e8\n",
    "\n",
    "https://rstudio-pubs-static.s3.amazonaws.com/570760_dcaddfeedd6a485eb8f2ac40899a6f86.html#hubungan_antara_tingkat_keselamatan_(survived)_dengan_kelas_penumpang_(pclass)\n",
    "\n"
   ]
  }
 ],
 "metadata": {
  "kernelspec": {
   "display_name": "Python 3",
   "language": "python",
   "name": "python3"
  },
  "language_info": {
   "codemirror_mode": {
    "name": "ipython",
    "version": 3
   },
   "file_extension": ".py",
   "mimetype": "text/x-python",
   "name": "python",
   "nbconvert_exporter": "python",
   "pygments_lexer": "ipython3",
   "version": "3.7.3"
  }
 },
 "nbformat": 4,
 "nbformat_minor": 2
}
